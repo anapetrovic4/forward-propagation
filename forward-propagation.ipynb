{
 "cells": [
  {
   "cell_type": "code",
   "execution_count": 1,
   "metadata": {},
   "outputs": [
    {
     "name": "stdout",
     "output_type": "stream",
     "text": [
      "[0.26 0.49 0.67 0.76 0.47 0.02]\n",
      "[0.12 0.13 0.95]\n"
     ]
    }
   ],
   "source": [
    "# Generate weights and biases\n",
    "import numpy as np\n",
    "\n",
    "# np.around rounds an array to the given number of decimals\n",
    "weights = np.around(np.random.uniform(size=6), decimals=2)\n",
    "biases = np.around(np.random.uniform(size=3), decimals=2)\n",
    "\n",
    "print(weights)\n",
    "print(biases)"
   ]
  },
  {
   "cell_type": "code",
   "execution_count": 2,
   "metadata": {},
   "outputs": [
    {
     "name": "stdout",
     "output_type": "stream",
     "text": [
      "x1 is 0.5 and x2 is 0.85\n"
     ]
    }
   ],
   "source": [
    "x1 = 0.5\n",
    "x2 = 0.85\n",
    "\n",
    "print('x1 is {} and x2 is {}'.format(x1, x2))"
   ]
  },
  {
   "cell_type": "code",
   "execution_count": 3,
   "metadata": {},
   "outputs": [
    {
     "name": "stdout",
     "output_type": "stream",
     "text": [
      "The weighted sum of the inputs at the first node in the hidden layer is 0.6665\n"
     ]
    }
   ],
   "source": [
    "# Compute the weighted sum of z11\n",
    "z11 = x1 * weights[0] + x2  * weights[1] + biases[0]\n",
    "\n",
    "print('The weighted sum of the inputs at the first node in the hidden layer is {}'.format(z11))"
   ]
  },
  {
   "cell_type": "code",
   "execution_count": 4,
   "metadata": {},
   "outputs": [
    {
     "name": "stdout",
     "output_type": "stream",
     "text": [
      "The weighted sum of the inputs at the first node in the hidden layer is 1.1110000000000002\n"
     ]
    }
   ],
   "source": [
    "# Compute the weighted sum of the z12\n",
    "z12 = x1 * weights[2] + x2 * weights[3] + biases[1]\n",
    "\n",
    "print('The weighted sum of the inputs at the first node in the hidden layer is {}'.format(z12))"
   ]
  },
  {
   "cell_type": "code",
   "execution_count": 5,
   "metadata": {},
   "outputs": [
    {
     "name": "stdout",
     "output_type": "stream",
     "text": [
      "The activation of the first node in the hidden layer is 0.6607\n"
     ]
    }
   ],
   "source": [
    "# Compute the activation of the first node in the hidden layer a11\n",
    "a11 = 1.0 / (1.0 + np.exp(-z11))\n",
    "\n",
    "print('The activation of the first node in the hidden layer is {}'.format(np.around(a11, decimals=4)))"
   ]
  },
  {
   "cell_type": "code",
   "execution_count": 6,
   "metadata": {},
   "outputs": [
    {
     "name": "stdout",
     "output_type": "stream",
     "text": [
      "The activation of the first node in the hidden layer is 0.7523\n"
     ]
    }
   ],
   "source": [
    "# Compute the activation of the first node in the hidden layer a12\n",
    "a12 = 1.0 / (1.0 + np.exp(-z12))\n",
    "\n",
    "print('The activation of the first node in the hidden layer is {}'.format(np.around(a12, decimals=4)))"
   ]
  },
  {
   "cell_type": "code",
   "execution_count": 7,
   "metadata": {},
   "outputs": [
    {
     "name": "stdout",
     "output_type": "stream",
     "text": [
      "The weighted sum of the inputs at the node in the output layer is 1.2756\n"
     ]
    }
   ],
   "source": [
    "# Compute the weighted sum of the node in the output layer z2\n",
    "z2 = a11 * weights[4] + a12 * weights[5] + biases[2]\n",
    "\n",
    "print('The weighted sum of the inputs at the node in the output layer is {}'.format(np.around(z2, decimals=4)))"
   ]
  },
  {
   "cell_type": "code",
   "execution_count": 8,
   "metadata": {},
   "outputs": [
    {
     "name": "stdout",
     "output_type": "stream",
     "text": [
      "The output of the network for x1 = 0.5 and x2 = 0.85 is 0.7817\n"
     ]
    }
   ],
   "source": [
    "# Compute the activation of the first node in the output layer z2\n",
    "a2 = 1.0 / (1.0 + np.exp(-z2))\n",
    "\n",
    "print('The output of the network for x1 = 0.5 and x2 = 0.85 is {}'.format(np.around(a2, decimals=4)))"
   ]
  },
  {
   "cell_type": "code",
   "execution_count": 9,
   "metadata": {},
   "outputs": [],
   "source": [
    "# Generalize network: take n inputs, each hidden layer has m nodes\n",
    "\n",
    "# Initialize a network\n",
    "n = 2 # number of inputs\n",
    "num_hidden_layers = 2 # number of hidden layers\n",
    "m = [2,2] # number of nodes in each hidden layer\n",
    "num_nodes_output = 1 # number of nodes in the output layer"
   ]
  },
  {
   "cell_type": "code",
   "execution_count": 10,
   "metadata": {},
   "outputs": [
    {
     "name": "stdout",
     "output_type": "stream",
     "text": [
      "{'layer_1': {'node_1': {'weights': array([0.07, 0.97]), 'bias': array([0.58])}, 'node_2': {'weights': array([0.78, 0.75]), 'bias': array([0.46])}}, 'layer_2': {'node_1': {'weights': array([0.01, 0.77]), 'bias': array([0.63])}, 'node_2': {'weights': array([0.1 , 0.49]), 'bias': array([0.46])}}, 'output': {'node_1': {'weights': array([0.59, 0.05]), 'bias': array([0.51])}}}\n"
     ]
    }
   ],
   "source": [
    "# Initialize the weights and biases in the network to random numbers\n",
    "import numpy as np\n",
    "\n",
    "num_nodes_previous = n # number of nodes in the previous layer\n",
    "\n",
    "network = {} # network is an empty dictionary\n",
    "\n",
    "# loop through each layer and initialize weights and biases for each node, including + 1 for the output layer\n",
    "for layer in range(num_hidden_layers + 1):\n",
    "\n",
    "    # determine name of layer\n",
    "    if layer == num_hidden_layers:\n",
    "        layer_name = 'output'\n",
    "        num_nodes = num_nodes_output\n",
    "    else:\n",
    "        layer_name = 'layer_{}'.format(layer + 1)\n",
    "        num_nodes = m[layer]\n",
    "\n",
    "    # initialize weights and biases associated with each node in the current layer\n",
    "    network[layer_name] = {}\n",
    "    for node in range(num_nodes):\n",
    "        node_name = 'node_{}'.format(node + 1)\n",
    "        network[layer_name][node_name] = {\n",
    "            'weights': np.around(np.random.uniform(size=num_nodes_previous), decimals=2),\n",
    "            'bias': np.around(np.random.uniform(size=1), decimals=2),\n",
    "        }\n",
    "\n",
    "    num_nodes_previous = num_nodes\n",
    "\n",
    "print(network)"
   ]
  },
  {
   "cell_type": "code",
   "execution_count": 15,
   "metadata": {},
   "outputs": [],
   "source": [
    "# Put the previous code in definition\n",
    "\n",
    "def initialize_network(num_inputs, num_hidden_layers, num_nodes_hidden, num_nodes_output):\n",
    "    num_nodes_previous = num_inputs # number of nodes in the previous layer\n",
    "\n",
    "    network = {} # network is an empty dictionary\n",
    "\n",
    "    # loop through each layer and initialize weights and biases for each node, including + 1 for the output layer\n",
    "    for layer in range(num_hidden_layers + 1):\n",
    "\n",
    "        # determine name of layer\n",
    "        if layer == num_hidden_layers:\n",
    "            layer_name = 'output'\n",
    "            num_nodes = num_nodes_output\n",
    "        else:\n",
    "            layer_name = 'layer_{}'.format(layer + 1)\n",
    "            num_nodes = num_nodes_hidden[layer]\n",
    "\n",
    "        # initialize weights and biases associated with each node in the current layer\n",
    "        network[layer_name] = {}\n",
    "        for node in range(num_nodes):\n",
    "            node_name = 'node_{}'.format(node + 1)\n",
    "            network[layer_name][node_name] = {\n",
    "                'weights': np.around(np.random.uniform(size=num_nodes_previous), decimals=2),\n",
    "                'bias': np.around(np.random.uniform(size=1), decimals=2),\n",
    "            }\n",
    "\n",
    "        num_nodes_previous = num_nodes\n",
    "\n",
    "    return network"
   ]
  },
  {
   "cell_type": "code",
   "execution_count": 17,
   "metadata": {},
   "outputs": [
    {
     "name": "stdout",
     "output_type": "stream",
     "text": [
      "{'layer_1': {'node_1': {'weights': array([0.5 , 0.18, 0.94, 0.65, 0.2 ]), 'bias': array([0.04])}, 'node_2': {'weights': array([0.22, 0.02, 0.71, 0.16, 0.66]), 'bias': array([0.6])}, 'node_3': {'weights': array([0.65, 0.43, 0.86, 0.76, 0.31]), 'bias': array([0.63])}}, 'layer_2': {'node_1': {'weights': array([0.13, 0.92, 0.69]), 'bias': array([0.53])}, 'node_2': {'weights': array([0.76, 0.98, 0.1 ]), 'bias': array([0.05])}}, 'layer_3': {'node_1': {'weights': array([0.52, 0.49]), 'bias': array([0.5])}, 'node_2': {'weights': array([0.83, 0.29]), 'bias': array([0.73])}, 'node_3': {'weights': array([0.42, 0.97]), 'bias': array([0.23])}}, 'output': {'node_1': {'weights': array([0.89, 0.16, 0.51]), 'bias': array([0.36])}}}\n"
     ]
    }
   ],
   "source": [
    "# Use the initialize_network function to create network that takes 5 inputs, 3 hidden layers, has 3 nodes in the 1st layer, 2 in the 2nd, and 3 nodes in the 3rd layer, has 1 node in the output layer\n",
    "small_network = initialize_network(num_inputs=5,num_hidden_layers=3,num_nodes_hidden=[3,2,3], num_nodes_output=1)\n",
    "print(small_network)"
   ]
  },
  {
   "cell_type": "code",
   "execution_count": 18,
   "metadata": {},
   "outputs": [],
   "source": [
    "# Compute weighted sum at each node\n",
    "def compute_weighted_sum(inputs, weights, bias):\n",
    "    return np.sum(inputs * weights) + bias"
   ]
  },
  {
   "cell_type": "code",
   "execution_count": 19,
   "metadata": {},
   "outputs": [
    {
     "name": "stdout",
     "output_type": "stream",
     "text": [
      "The inputs to the network are [0.15 0.74 0.26 0.53 0.01]\n"
     ]
    }
   ],
   "source": [
    "# Generate 5 inputs to feed small_network\n",
    "from random import seed\n",
    "import numpy as np\n",
    "\n",
    "np.random.seed(12)\n",
    "inputs = np.around(np.random.uniform(size=5), decimals=2)\n",
    "\n",
    "print('The inputs to the network are {}'.format(inputs))"
   ]
  },
  {
   "cell_type": "code",
   "execution_count": 20,
   "metadata": {},
   "outputs": [
    {
     "name": "stdout",
     "output_type": "stream",
     "text": [
      "The weighted sum at the first node in the hidden layer is 0.8391\n"
     ]
    }
   ],
   "source": [
    "# Use the compute_weighted_sum function to compute the weighted sum at the first node in the first hidden layer\n",
    "node_weights = small_network['layer_1']['node_1']['weights']\n",
    "node_bias = small_network['layer_1']['node_1']['bias']\n",
    "\n",
    "weighted_sum = compute_weighted_sum(inputs, node_weights, node_bias)\n",
    "print('The weighted sum at the first node in the hidden layer is {}'.format(np.around(weighted_sum[0], decimals=4)))\n"
   ]
  },
  {
   "cell_type": "code",
   "execution_count": 21,
   "metadata": {},
   "outputs": [],
   "source": [
    "# Compute node activation - mapping non-linear transformation of the weighted sum\n",
    "def node_activation(weighted_sum):\n",
    "    return 1.0 / (1.0 + np.exp(-1 * weighted_sum))"
   ]
  },
  {
   "cell_type": "code",
   "execution_count": 22,
   "metadata": {},
   "outputs": [
    {
     "name": "stdout",
     "output_type": "stream",
     "text": [
      "The output of the first node in the hidden layer is 0.6983\n"
     ]
    }
   ],
   "source": [
    "# Use node_activation to compute the output of the first node in the first hidden layer\n",
    "node_output = node_activation(compute_weighted_sum(inputs, node_weights, node_bias))\n",
    "print('The output of the first node in the hidden layer is {}'.format(np.around(node_output[0], decimals=4)))"
   ]
  },
  {
   "cell_type": "code",
   "execution_count": 23,
   "metadata": {},
   "outputs": [],
   "source": [
    "# Forward propagation\n",
    "\n",
    "# input layer is the input to the first hidden layer\n",
    "# compute the weighted sum at the nodes of the current layer\n",
    "# compute the output of the nodes of the current layer\n",
    "# set the output of the current layer to be the input to the next layer\n",
    "# move to the next layer in the network\n",
    "# repeat steps 2-4 until we compute the output of the output layer\n",
    "\n",
    "def forward_propagate(network, inputs):\n",
    "\n",
    "    layer_inputs = list(inputs)\n",
    "\n",
    "    for layer in network:\n",
    "\n",
    "        layer_data = network[layer]\n",
    "\n",
    "        layer_outputs = []\n",
    "        for layer_node in layer_data:\n",
    "\n",
    "            node_data = layer_data[layer_node]\n",
    "\n",
    "            # compute the weighted sum and the output of each node at the same time\n",
    "            node_output = node_activation(compute_weighted_sum(layer_inputs, node_data['weights'], node_data['bias']))\n",
    "            layer_outputs.append(np.around(node_output[0], decimals=4))\n",
    "\n",
    "        if layer != 'output':\n",
    "            print('The outputs of the nodes in hidden layer number {} is {}'.format(layer.split('_')[1], layer_outputs))\n",
    "\n",
    "        layer_inputs = layer_outputs\n",
    "    \n",
    "    network_predictions = layer_outputs\n",
    "    \n",
    "    return network_predictions"
   ]
  },
  {
   "cell_type": "code",
   "execution_count": 24,
   "metadata": {},
   "outputs": [
    {
     "name": "stdout",
     "output_type": "stream",
     "text": [
      "The outputs of the nodes in hidden layer number 1 is [0.6983, 0.7158, 0.8423]\n",
      "The outputs of the nodes in hidden layer number 2 is [0.8654, 0.7968]\n",
      "The outputs of the nodes in hidden layer number 3 is [0.7926, 0.8428, 0.7968]\n",
      "The predicted value by the network for the given input is 0.8329\n"
     ]
    }
   ],
   "source": [
    "# Use the forward propagate function to compute the prediction of our small network\n",
    "\n",
    "prediction = forward_propagate(small_network, inputs)\n",
    "print('The predicted value by the network for the given input is {}'.format(np.around(prediction[0], decimals=4)))"
   ]
  },
  {
   "cell_type": "code",
   "execution_count": 25,
   "metadata": {},
   "outputs": [
    {
     "name": "stdout",
     "output_type": "stream",
     "text": [
      "The outputs of the nodes in hidden layer number 1 is [0.8857, 0.8889]\n",
      "The outputs of the nodes in hidden layer number 2 is [0.7822, 0.6965, 0.7411]\n",
      "The outputs of the nodes in hidden layer number 3 is [0.868, 0.881]\n",
      "The predicted values by the network for the given input are [0.8952, 0.8222, 0.8035]\n"
     ]
    }
   ],
   "source": [
    "# Putting the code into practice\n",
    "\n",
    "my_network = initialize_network(5, 3, [2,3,2], 3)\n",
    "\n",
    "inputs = np.around(np.random.uniform(size=5), decimals=2)\n",
    "\n",
    "prediction = forward_propagate(my_network, inputs)\n",
    "\n",
    "print('The predicted values by the network for the given input are {}'.format(prediction))"
   ]
  }
 ],
 "metadata": {
  "kernelspec": {
   "display_name": "Python 3",
   "language": "python",
   "name": "python3"
  },
  "language_info": {
   "codemirror_mode": {
    "name": "ipython",
    "version": 3
   },
   "file_extension": ".py",
   "mimetype": "text/x-python",
   "name": "python",
   "nbconvert_exporter": "python",
   "pygments_lexer": "ipython3",
   "version": "3.11.8"
  }
 },
 "nbformat": 4,
 "nbformat_minor": 2
}
